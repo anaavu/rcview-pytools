{
 "cells": [
  {
   "cell_type": "code",
   "execution_count": null,
   "metadata": {},
   "outputs": [],
   "source": [
    "from rcview_pytools.constants import IN_IPYTHON\n",
    "IN_IPYTHON"
   ]
  },
  {
   "cell_type": "code",
   "execution_count": null,
   "metadata": {},
   "outputs": [],
   "source": [
    "from rcview_pytools.gis import RCViewGIS\n",
    "from rcview_pytools.extras import RCActivityIndicator\n",
    "import time"
   ]
  },
  {
   "cell_type": "code",
   "execution_count": null,
   "metadata": {},
   "outputs": [],
   "source": [
    "spinner = RCActivityIndicator()\n",
    "time.sleep(1)\n",
    "spinner.start()\n",
    "time.sleep(3)\n",
    "spinner.text = 'Some longer text'\n",
    "time.sleep(3)\n",
    "spinner.text = 'Shorter'\n",
    "time.sleep(3)\n",
    "spinner.stop_and_persist()\n",
    "time.sleep(3)\n",
    "spinner.start()\n",
    "time.sleep(3)\n",
    "spinner.succeed('Finished')\n",
    "time.sleep(3)\n",
    "spinner.fail('Failed')\n",
    "time.sleep(3)\n",
    "spinner.stop()"
   ]
  },
  {
   "cell_type": "code",
   "execution_count": null,
   "metadata": {},
   "outputs": [],
   "source": [
    "gis = RCViewGIS('john.matchett@redcross.org')"
   ]
  },
  {
   "cell_type": "code",
   "execution_count": null,
   "metadata": {},
   "outputs": [],
   "source": [
    "gis.properties.user"
   ]
  },
  {
   "cell_type": "code",
   "execution_count": null,
   "metadata": {},
   "outputs": [],
   "source": [
    "from IPython.display import display\n",
    "d = display('test', display_id='test_id')"
   ]
  },
  {
   "cell_type": "code",
   "execution_count": null,
   "metadata": {},
   "outputs": [],
   "source": []
  }
 ],
 "metadata": {
  "kernelspec": {
   "display_name": "Python 3",
   "language": "python",
   "name": "python3"
  },
  "language_info": {
   "codemirror_mode": {
    "name": "ipython",
    "version": 3
   },
   "file_extension": ".py",
   "mimetype": "text/x-python",
   "name": "python",
   "nbconvert_exporter": "python",
   "pygments_lexer": "ipython3",
   "version": "3.6.4"
  }
 },
 "nbformat": 4,
 "nbformat_minor": 2
}
